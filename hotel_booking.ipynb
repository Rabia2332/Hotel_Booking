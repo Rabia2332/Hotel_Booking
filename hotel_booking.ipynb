{
 "cells": [
  {
   "attachments": {},
   "cell_type": "markdown",
   "metadata": {},
   "source": [
    "#### Importing Libraries"
   ]
  },
  {
   "cell_type": "code",
   "execution_count": null,
   "metadata": {},
   "outputs": [],
   "source": [
    "pip install matplotlib\n"
   ]
  },
  {
   "cell_type": "code",
   "execution_count": null,
   "metadata": {},
   "outputs": [],
   "source": [
    "import pandas as pd                  # Import the pandas module and alias it as 'pd'\n",
    "import matplotlib.pyplot as plt      # Import the matplotlib module's pyplot interface and alias it as 'plt'\n",
    "import seaborn as sns                # Import the seaborn data visualization library and alias it as 'sns'\n",
    "import warnings                      # Import the warnings module for suppressing warnings\n",
    "warnings.filterwarnings('ignore')    # Ignore warning messages during runtime\n"
   ]
  },
  {
   "attachments": {},
   "cell_type": "markdown",
   "metadata": {},
   "source": [
    "#### Loading the Dataset"
   ]
  },
  {
   "cell_type": "code",
   "execution_count": null,
   "metadata": {},
   "outputs": [],
   "source": [
    "df = pd.read_csv('hotel_booking.csv')"
   ]
  },
  {
   "cell_type": "code",
   "execution_count": null,
   "metadata": {},
   "outputs": [],
   "source": [
    "df = df.drop(['name','email', 'phone-number', 'credit_card'], axis=1)"
   ]
  },
  {
   "cell_type": "code",
   "execution_count": null,
   "metadata": {},
   "outputs": [],
   "source": [
    "df.head(6)"
   ]
  },
  {
   "attachments": {},
   "cell_type": "markdown",
   "metadata": {},
   "source": [
    "#### Exploratory Data Analysis and Data Cleaning"
   ]
  },
  {
   "cell_type": "code",
   "execution_count": null,
   "metadata": {},
   "outputs": [],
   "source": [
    "df.tail(5)"
   ]
  },
  {
   "cell_type": "code",
   "execution_count": null,
   "metadata": {},
   "outputs": [],
   "source": [
    "df.info()"
   ]
  },
  {
   "cell_type": "code",
   "execution_count": null,
   "metadata": {},
   "outputs": [],
   "source": [
    "df.shape"
   ]
  },
  {
   "cell_type": "code",
   "execution_count": null,
   "metadata": {},
   "outputs": [],
   "source": [
    "df.columns"
   ]
  },
  {
   "cell_type": "code",
   "execution_count": null,
   "metadata": {},
   "outputs": [],
   "source": [
    "df['reservation_status_date'] = pd.to_datetime(df['reservation_status_date'])"
   ]
  },
  {
   "cell_type": "code",
   "execution_count": null,
   "metadata": {},
   "outputs": [],
   "source": [
    "df.describe(include= 'object')"
   ]
  },
  {
   "cell_type": "code",
   "execution_count": null,
   "metadata": {},
   "outputs": [],
   "source": [
    "# Loop through columns that contain object/string data in the dataframe's summary statistics\n",
    "for col in df.describe(include='object').columns:\n",
    "    \n",
    "    # Print the name of the column\n",
    "    print(col)\n",
    "    \n",
    "    # Print the unique values in that column\n",
    "    print(df[col].unique())\n",
    "    print('___'*40)\n"
   ]
  },
  {
   "cell_type": "code",
   "execution_count": null,
   "metadata": {},
   "outputs": [],
   "source": [
    "df.isnull().sum()"
   ]
  },
  {
   "cell_type": "code",
   "execution_count": null,
   "metadata": {},
   "outputs": [],
   "source": [
    "df.drop(['company', 'agent'],axis=1, inplace=True)  #Delete 'company', 'agent' col from the df\n",
    "df.dropna(inplace=True)     # delete all row where have missing value."
   ]
  },
  {
   "cell_type": "code",
   "execution_count": null,
   "metadata": {},
   "outputs": [],
   "source": [
    "df.describe()"
   ]
  },
  {
   "cell_type": "code",
   "execution_count": null,
   "metadata": {},
   "outputs": [],
   "source": [
    "df = df[df['adr']<5000]  "
   ]
  },
  {
   "attachments": {},
   "cell_type": "markdown",
   "metadata": {},
   "source": [
    "#### Data Analysis and visualizations"
   ]
  },
  {
   "cell_type": "code",
   "execution_count": null,
   "metadata": {},
   "outputs": [],
   "source": [
    "Cancelled_perc = df['is_canceled'].value_counts(normalize=True)\n",
    "print(Cancelled_perc)\n",
    "\n",
    "plt.figure(figsize= (5, 3))\n",
    "plt.title('Reservation status count')\n",
    "plt.bar(['Not canceled','Canceled'],df['is_canceled'].value_counts(), edgecolor = 'k', width = 0.4)\n",
    "plt.show()"
   ]
  },
  {
   "cell_type": "code",
   "execution_count": null,
   "metadata": {},
   "outputs": [],
   "source": [
    "# Create a new plot figure with a specified size of 8 inches (width) by 4 inches (height)\n",
    "plt.figure(figsize=(8,4))\n",
    "\n",
    "# Create a countplot using seaborn (sns) with the specified data frame (df), \n",
    "# x-axis variable ('hotel'), and hue variable ('is_canceled'), \n",
    "# and use the 'Blues' color palette.\n",
    "ax1 = sns.countplot(x='hotel', hue='is_canceled', data=df, palette='Blues')\n",
    "\n",
    "# Get the legend handles and labels from the plot and store them in a variable 'legend_labels'\n",
    "legend_labels = ax1.get_legend_handles_labels()\n",
    "\n",
    "# Add a legend to the plot with the specified location outside of the plot area\n",
    "ax1.legend(bbox_to_anchor=(1, 1))\n",
    "\n",
    "# Set the title of the plot to 'Reservation status in different hotels' with a font size of 20\n",
    "plt.title('Reservation status in different hotels', size=20)\n",
    "\n",
    "# Set the label for the x-axis to 'hotel'\n",
    "plt.xlabel('hotel')\n",
    "\n",
    "# Set the label for the y-axis to 'number of reservation'\n",
    "plt.ylabel('number of reservation')\n",
    "\n",
    "# Add a legend to the plot with the specified labels 'not canceled' and 'canceled'\n",
    "plt.legend(['not canceled', 'canceled'])\n",
    "\n",
    "# Show the plot\n",
    "plt.show()\n"
   ]
  },
  {
   "cell_type": "code",
   "execution_count": null,
   "metadata": {},
   "outputs": [],
   "source": [
    "# Subset the DataFrame to only include rows where the hotel is 'Resort Hotel'\n",
    "resort_hotel = df[df['hotel'] == 'Resort Hotel']\n",
    "\n",
    "# Count the number of canceled and not canceled bookings for the resort hotel\n",
    "resort_hotel_cancel_counts = resort_hotel['is_canceled'].value_counts(normalize=True)"
   ]
  },
  {
   "cell_type": "code",
   "execution_count": null,
   "metadata": {},
   "outputs": [],
   "source": [
    "# Subset the data to only include the City Hotel\n",
    "city_hotel = df[df['hotel'] == 'City Hotel']\n",
    "\n",
    "# Calculate the number and proportion of canceled bookings for the City Hotel\n",
    "# The `normalize` argument is set to `True` to show proportions instead of counts\n",
    "city_hotel['is_canceled'].value_counts(normalize=True)"
   ]
  },
  {
   "cell_type": "code",
   "execution_count": null,
   "metadata": {},
   "outputs": [],
   "source": [
    "# Calculate the average ADR for each day for the resort hotel\n",
    "resort_hotel = resort_hotel.groupby('reservation_status_date')[['adr']].mean()\n",
    "\n",
    "# Calculate the average ADR for each day for the city hotel\n",
    "city_hotel = city_hotel.groupby('reservation_status_date')[['adr']].mean()"
   ]
  },
  {
   "cell_type": "code",
   "execution_count": null,
   "metadata": {},
   "outputs": [],
   "source": [
    "# Set the size of the figure\n",
    "plt.figure(figsize= (22,5))\n",
    "\n",
    "# Set the title of the plot\n",
    "plt.title('Average Daily Rate in City and Resort Hotel', fontsize = 30)\n",
    "\n",
    "# Plot the Average Daily Rate for the Resort Hotel\n",
    "plt.plot(resort_hotel.index, resort_hotel['adr'], label = 'Resort Hotel')\n",
    "\n",
    "# Plot the Average Daily Rate for the City Hotel\n",
    "plt.plot(city_hotel.index, city_hotel['adr'], label = 'City Hotel')\n",
    "\n",
    "# Set the legend with the font size\n",
    "plt.legend(fontsize = 20)\n",
    "\n",
    "# Display the plot\n",
    "plt.show()\n"
   ]
  },
  {
   "cell_type": "code",
   "execution_count": null,
   "metadata": {},
   "outputs": [],
   "source": [
    "# Extract the month from the reservation status date and add it as a new column\n",
    "df['month'] = df['reservation_status_date'].dt.month\n",
    "\n",
    "# Set the figure size and create a count plot of reservation status per month\n",
    "plt.figure(figsize=(16, 5))\n",
    "ax1 = sns.countplot(x='month', hue='is_canceled', data=df, palette='bright')\n",
    "\n",
    "# Get the legend handles and labels and move the legend to the upper right corner of the plot\n",
    "legend_labels = ax1.get_legend_handles_labels()\n",
    "ax1.legend(bbox_to_anchor=(1, 1))\n",
    "\n",
    "# Set the plot title, x and y labels, and legend labels\n",
    "plt.title('Reservation status per month', size=20)\n",
    "plt.xlabel('Month')\n",
    "plt.ylabel('Number of reservations')\n",
    "plt.legend(['Not canceled', 'Canceled'])\n",
    "\n",
    "# Show the plot\n",
    "plt.show()"
   ]
  },
  {
   "cell_type": "code",
   "execution_count": null,
   "metadata": {},
   "outputs": [],
   "source": [
    "# Set the figure size and title\n",
    "plt.figure(figsize=(14, 7))\n",
    "plt.title('ADR per month', fontsize=30)\n",
    "\n",
    "# Subset the data to only include canceled bookings and group by month\n",
    "df_canceled = df[df['is_canceled'] == 1].groupby('month')[['adr']].sum().reset_index()\n",
    "\n",
    "# Create a bar plot of ADR per month for canceled bookings\n",
    "sns.barplot(x='month', y='adr', data=df_canceled)\n",
    "\n",
    "# Show the plot\n",
    "plt.show()\n",
    "\n"
   ]
  },
  {
   "cell_type": "code",
   "execution_count": null,
   "metadata": {},
   "outputs": [],
   "source": [
    "# create a new dataframe with only the rows where is_canceled is 1\n",
    "cancelled_data = df[df['is_canceled'] == 1]\n",
    "\n",
    "# get the top 10 countries with the most cancellations\n",
    "top_10_country = cancelled_data['country'].value_counts()[:10]\n",
    "\n",
    "# create a new figure with a size of 6x6\n",
    "plt.figure(figsize= (6,6))\n",
    "\n",
    "# add a title to the pie chart\n",
    "plt.title('Top 10 countries with reservations cancelled')\n",
    "\n",
    "# create a pie chart with the top 10 countries and their counts, with a two decimal percentage\n",
    "# displayed in each slice and the country names as labels\n",
    "plt.pie(top_10_country, autopct='%.2f', labels=top_10_country.index)\n",
    "\n",
    "# show the pie chart\n",
    "plt.show()\n"
   ]
  },
  {
   "cell_type": "code",
   "execution_count": null,
   "metadata": {},
   "outputs": [],
   "source": [
    "# Count the number of reservations in each market segment\n",
    "df['market_segment'].value_counts()"
   ]
  },
  {
   "cell_type": "code",
   "execution_count": null,
   "metadata": {},
   "outputs": [],
   "source": [
    "# Calculate the proportion of reservations in each market segment\n",
    "df['market_segment'].value_counts(normalize=True)"
   ]
  },
  {
   "cell_type": "code",
   "execution_count": null,
   "metadata": {},
   "outputs": [],
   "source": [
    "# Calculate the proportion of canceled reservations in each market segment\n",
    "cancelled_data['market_segment'].value_counts(normalize=True)"
   ]
  },
  {
   "cell_type": "code",
   "execution_count": null,
   "metadata": {},
   "outputs": [],
   "source": [
    "# Group cancelled reservations by reservation status date and calculate the average daily rate (ADR)\n",
    "cancelled_df_adr = cancelled_data.groupby('reservation_status_date')[['adr']].mean()\n",
    "# Reset the index to make the reservation status date a column\n",
    "cancelled_df_adr.reset_index(inplace=True)\n",
    "# Sort the data by reservation status date\n",
    "cancelled_df_adr.sort_values('reservation_status_date', inplace=True)\n",
    "\n",
    "# Select non-cancelled reservations and repeat the same steps as above to get the ADR over time\n",
    "not_cancelled_data = df[df['is_canceled'] == 0]\n",
    "not_cancelled_df_adr = not_cancelled_data.groupby('reservation_status_date')[['adr']].mean()\n",
    "not_cancelled_df_adr.reset_index(inplace=True)\n",
    "not_cancelled_df_adr.sort_values('reservation_status_date', inplace=True)\n",
    "\n",
    "# Create a figure with size 20x6 inches\n",
    "plt.figure(figsize=(20, 6))\n",
    "# Set the title of the plot\n",
    "plt.title('Average Daily Rate')\n",
    "# Plot the ADR for non-cancelled reservations over time\n",
    "plt.plot(not_cancelled_df_adr['reservation_status_date'], not_cancelled_df_adr['adr'], label='not cancelled')\n",
    "# Plot the ADR for cancelled reservations over time\n",
    "plt.plot(cancelled_df_adr['reservation_status_date'], cancelled_df_adr['adr'], label='cancelled')\n"
   ]
  },
  {
   "cell_type": "code",
   "execution_count": null,
   "metadata": {},
   "outputs": [],
   "source": [
    "# Filter the cancelled data by reservation status date between 2016 and September 2017\n",
    "cancelled_df_adr = cancelled_df_adr[(cancelled_df_adr['reservation_status_date']>'2016') & (cancelled_df_adr['reservation_status_date']<'2017-09')]\n",
    "\n",
    "# Filter the not cancelled data by reservation status date between 2016 and September 2017\n",
    "not_cancelled_df_adr = not_cancelled_df_adr[(not_cancelled_df_adr['reservation_status_date']>'2016') & (not_cancelled_df_adr['reservation_status_date']<'2017-09')]\n"
   ]
  },
  {
   "cell_type": "code",
   "execution_count": null,
   "metadata": {},
   "outputs": [],
   "source": [
    "# Create a figure with a size of 20 x 6 inches\n",
    "plt.figure(figsize = (20, 6))\n",
    "\n",
    "# Add a title to the plot\n",
    "plt.title('Average Daily Rate')\n",
    "\n",
    "# Plot the line for the average daily rate of not cancelled reservations\n",
    "plt.plot(not_cancelled_df_adr['reservation_status_date'], not_cancelled_df_adr['adr'], label = 'not cancelled')\n",
    "\n",
    "# Plot the line for the average daily rate of cancelled reservations\n",
    "plt.plot(cancelled_df_adr['reservation_status_date'], cancelled_df_adr['adr'], label ='cancelled')\n",
    "\n",
    "# Add a legend to the plot with a font size of 20\n",
    "plt.legend(fontsize = 20)\n"
   ]
  }
 ],
 "metadata": {
  "kernelspec": {
   "display_name": "Python 3",
   "language": "python",
   "name": "python3"
  },
  "language_info": {
   "codemirror_mode": {
    "name": "ipython",
    "version": 3
   },
   "file_extension": ".py",
   "mimetype": "text/x-python",
   "name": "python",
   "nbconvert_exporter": "python",
   "pygments_lexer": "ipython3",
   "version": "3.11.2"
  },
  "orig_nbformat": 4
 },
 "nbformat": 4,
 "nbformat_minor": 2
}
